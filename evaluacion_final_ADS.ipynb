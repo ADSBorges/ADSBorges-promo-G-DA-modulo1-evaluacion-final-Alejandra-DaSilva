{
 "cells": [
  {
   "cell_type": "markdown",
   "metadata": {},
   "source": [
    "Evaluación Final"
   ]
  },
  {
   "cell_type": "markdown",
   "metadata": {},
   "source": [
    "•\tA lo largo de esta evaluación tendrás que crear una clase llamada TiendaOnline que cumpla los siguientes requisitos:\n",
    "o\tLa clase TiendaOnline debe tener los siguientes atributos:"
   ]
  },
  {
   "cell_type": "markdown",
   "metadata": {},
   "source": [
    "1.Inventario (lista de diccionarios): Un atributo para almacenar los productos en el inventario. Cada producto debe ser representado como un diccionario con las siguientes claves: 'nombre', 'precio', y 'cantidad'. Al principio deberá ser una lista vacía. Ejemplo de como debería ser:\n",
    "[{'nombre': 'Camisa', 'precio': 20, 'cantidad': 40},\n",
    "{'nombre': 'Pantalón', 'precio': 30, 'cantidad': 30}]"
   ]
  },
  {
   "cell_type": "markdown",
   "metadata": {},
   "source": [
    "2.Clientes (diccionario): Un atributo para llevar un registro de los clientes de la tienda. Cada cliente debe ser representado como un diccionario con las siguientes claves: 'nombre' y 'email'. Al inicio deberá ser un diccionario vacío. Además, cada cliente debe tener un historial de compras. Deberá parecerse a:\n",
    "{'Cliente1': {'email': 'cliente1@email.com', 'compras': []},\n",
    "'Cliente2': {'email': 'cliente2@email.com', 'compras': []}}\n"
   ]
  },
  {
   "cell_type": "markdown",
   "metadata": {},
   "source": [
    "3.Ventas_totales (float): Un atributo para llevar un registro de las ventas totales de la tienda. Inicializalo con valor 0.\n"
   ]
  },
  {
   "cell_type": "code",
   "execution_count": 1,
   "metadata": {},
   "outputs": [],
   "source": [
    "\n",
    "# creo la clase\n",
    "class TiendaOnline:\n",
    "    def __init__(self, nombre):\n",
    "        self.nombre = nombre\n",
    "        self.articulos = {}  # Un diccionario para almacenar los articulos: {id_articulo: [nombre, precio, cantidad]}\n",
    "        self.clientes = {}   # Un diccionario para almacenar los clientes: {id_cliente: [nombre, email]}\n",
    "        self.ventas = []   # Una lista para registrar las ventas: [(id_venta, id_cliente, id_articulo, unidades)]\n",
    "\n"
   ]
  },
  {
   "cell_type": "code",
   "execution_count": 2,
   "metadata": {},
   "outputs": [],
   "source": [
    "# creo el objeto\n",
    "la_tienda = TiendaOnline (\"Tiendita\")"
   ]
  },
  {
   "cell_type": "code",
   "execution_count": 3,
   "metadata": {},
   "outputs": [
    {
     "data": {
      "text/plain": [
       "{}"
      ]
     },
     "execution_count": 3,
     "metadata": {},
     "output_type": "execute_result"
    }
   ],
   "source": [
    "# pruebo los atributos de la clase\n",
    "la_tienda.articulos"
   ]
  },
  {
   "cell_type": "code",
   "execution_count": 4,
   "metadata": {},
   "outputs": [
    {
     "data": {
      "text/plain": [
       "{}"
      ]
     },
     "execution_count": 4,
     "metadata": {},
     "output_type": "execute_result"
    }
   ],
   "source": [
    "la_tienda.clientes"
   ]
  },
  {
   "cell_type": "code",
   "execution_count": 21,
   "metadata": {},
   "outputs": [
    {
     "data": {
      "text/plain": [
       "[]"
      ]
     },
     "execution_count": 21,
     "metadata": {},
     "output_type": "execute_result"
    }
   ],
   "source": [
    "la_tienda.ventas"
   ]
  },
  {
   "cell_type": "markdown",
   "metadata": {},
   "source": [
    "La clase TiendaOnline debe tener los siguientes métodos:"
   ]
  },
  {
   "cell_type": "markdown",
   "metadata": {},
   "source": [
    "1.Agregar_producto(self, nombre, precio, cantidad): Este método agrega un producto al inventario o actualiza su cantidad si ya existe. Debe recibir el nombre, precio y cantidad del producto como parámetros.\n",
    "\n",
    "¡\tItera a través del inventario y compara los nombres de los productos con el nombre proporcionado.\n",
    "\tSi el producto ya existe, actualiza la cantidad.\n",
    "\tSi no existe, agrega un nuevo producto al inventario\n"
   ]
  },
  {
   "cell_type": "code",
   "execution_count": 17,
   "metadata": {},
   "outputs": [],
   "source": [
    "def agrega_articulo(self, nombre, precio, cantidad):\n",
    "    for articulo in self.articulos:\n",
    "        if articulo[\"nombre\"] == nombre:\n",
    "            articulo[\"cantidad\"] += cantidad\n",
    "    \n",
    "            return self.articulos\n",
    "\n",
    "    nuevo_articulo = {\"nombre\": nombre, \"precio\": precio, \"cantidad\": cantidad}\n",
    "    self.articulos.append(nuevo_articulo)\n",
    "    return self.articulos\n"
   ]
  },
  {
   "cell_type": "code",
   "execution_count": 20,
   "metadata": {},
   "outputs": [],
   "source": [
    "# incluyo el metodo agregar_articulo a la clase\n",
    "\n",
    "class TiendaOnline:\n",
    "    def __init__(self, nombre):\n",
    "        self.nombre = nombre\n",
    "        self.articulos = {}  # Un diccionario para almacenar los articulos: {id_articulo: [nombre, precio, cantidad]}\n",
    "        self.clientes = {}   # Un diccionario para almacenar los clientes: {id_cliente: [nombre, email]}\n",
    "        self.ventas = []   # Una lista para registrar las ventas: [(id_venta, id_cliente, id_articulo, unidades)]\n",
    "\n",
    "\n",
    "    def agrega_articulo(self, nombre, precio, cantidad):\n",
    "        for articulo in self.articulos:\n",
    "            if articulo[\"nombre\"] == nombre:\n",
    "                articulo[\"cantidad\"] += cantidad\n",
    "                return self.articulos\n",
    "\n",
    "        nuevo_articulo = {\"nombre\": nombre, \"precio\": precio, \"cantidad\": cantidad}\n",
    "        self.articulos.append(nuevo_articulo)\n",
    "        return self.articulos\n"
   ]
  },
  {
   "cell_type": "code",
   "execution_count": 9,
   "metadata": {},
   "outputs": [],
   "source": [
    "la_tienda = TiendaOnline (\"Tiendita\")"
   ]
  },
  {
   "cell_type": "markdown",
   "metadata": {},
   "source": [
    "2.Ver_inventario(self): Muestra el inventario de productos con sus detalles.\n",
    "\n",
    "\tUtiliza un bucle for para recorrer el inventario.\n",
    "\tImprime los detalles (nombre, precio, cantidad) de cada producto.\n",
    "\tDebería verse:\n",
    "Nombre: Camisa, Precio: $20, Cantidad: 50\n",
    "Nombre: Pantalón, Precio: $30, Cantidad: 30\n",
    "\n"
   ]
  },
  {
   "cell_type": "code",
   "execution_count": 23,
   "metadata": {},
   "outputs": [],
   "source": [
    "def mostrar_inventario(self):\n",
    "    # definir una lista (de diccionarios) vacía para el inventario\n",
    "    inventario = []\n",
    "\n",
    "    # recorrer a través del diccionario de articulos\n",
    "    for id_articulo, articulo_info in self.articulos.items():\n",
    "        # Sacar información del articulo: nombre, precio y cantidad\n",
    "        nombre, precio, cantidad = articulo_info\n",
    "        # Crea un diccionario con información del articulo y su cantidad\n",
    "        inventario[id_articulo] = {\n",
    "            \"Nombre\": nombre,\n",
    "            \"Precio\": precio,\n",
    "            \"Cantidad Disponible\": cantidad,\n",
    "            }\n",
    "    # Devuelve el diccionario de inventario con toda la información\n",
    "    return inventario"
   ]
  },
  {
   "cell_type": "code",
   "execution_count": 14,
   "metadata": {},
   "outputs": [],
   "source": [
    "la_tienda = TiendaOnline (\"Tiendita\")\n"
   ]
  },
  {
   "cell_type": "code",
   "execution_count": 15,
   "metadata": {},
   "outputs": [
    {
     "data": {
      "text/plain": [
       "{}"
      ]
     },
     "execution_count": 15,
     "metadata": {},
     "output_type": "execute_result"
    }
   ],
   "source": [
    "la_tienda.articulos"
   ]
  },
  {
   "cell_type": "code",
   "execution_count": null,
   "metadata": {},
   "outputs": [],
   "source": []
  }
 ],
 "metadata": {
  "kernelspec": {
   "display_name": "base",
   "language": "python",
   "name": "python3"
  },
  "language_info": {
   "codemirror_mode": {
    "name": "ipython",
    "version": 3
   },
   "file_extension": ".py",
   "mimetype": "text/x-python",
   "name": "python",
   "nbconvert_exporter": "python",
   "pygments_lexer": "ipython3",
   "version": "3.9.12"
  }
 },
 "nbformat": 4,
 "nbformat_minor": 2
}
