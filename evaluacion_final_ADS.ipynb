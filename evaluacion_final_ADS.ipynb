{
 "cells": [
  {
   "cell_type": "markdown",
   "metadata": {},
   "source": [
    "Evaluación Final"
   ]
  },
  {
   "cell_type": "markdown",
   "metadata": {},
   "source": [
    "•\tA lo largo de esta evaluación tendrás que crear una clase llamada TiendaOnline que cumpla los siguientes requisitos:\n",
    "o\tLa clase TiendaOnline debe tener los siguientes atributos:"
   ]
  },
  {
   "cell_type": "markdown",
   "metadata": {},
   "source": [
    "1.Inventario (lista de diccionarios): Un atributo para almacenar los productos en el inventario. Cada producto debe ser representado como un diccionario con las siguientes claves: 'nombre', 'precio', y 'cantidad'. Al principio deberá ser una lista vacía. Ejemplo de como debería ser:\n",
    "[{'nombre': 'Camisa', 'precio': 20, 'cantidad': 40},\n",
    "{'nombre': 'Pantalón', 'precio': 30, 'cantidad': 30}]"
   ]
  },
  {
   "cell_type": "markdown",
   "metadata": {},
   "source": [
    "2.Clientes (diccionario): Un atributo para llevar un registro de los clientes de la tienda. Cada cliente debe ser representado como un diccionario con las siguientes claves: 'nombre' y 'email'. Al inicio deberá ser un diccionario vacío. Además, cada cliente debe tener un historial de compras. Deberá parecerse a:\n",
    "{'Cliente1': {'email': 'cliente1@email.com', 'compras': []},\n",
    "'Cliente2': {'email': 'cliente2@email.com', 'compras': []}}\n"
   ]
  },
  {
   "cell_type": "markdown",
   "metadata": {},
   "source": [
    "3.Ventas_totales (float): Un atributo para llevar un registro de las ventas totales de la tienda. Inicializalo con valor 0.\n"
   ]
  },
  {
   "cell_type": "code",
   "execution_count": 1,
   "metadata": {},
   "outputs": [],
   "source": [
    "\n",
    "# creo la clase\n",
    "class TiendaOnline:\n",
    "    def __init__(self, nombre):\n",
    "        self.nombre = nombre\n",
    "        self.articulos = {}  # Un diccionario para almacenar los articulos: {id_articulo: [nombre, precio, cantidad]}\n",
    "        self.clientes = {}   # Un diccionario para almacenar los clientes: {id_cliente: [nombre, email]}\n",
    "        self.ventas = []   # Una lista para registrar las ventas: [(id_venta, id_cliente, id_articulo, unidades)]\n",
    "\n"
   ]
  },
  {
   "cell_type": "code",
   "execution_count": 2,
   "metadata": {},
   "outputs": [],
   "source": [
    "# creo el objeto\n",
    "#la_tienda = TiendaOnline (\"Tiendita\")"
   ]
  },
  {
   "cell_type": "markdown",
   "metadata": {},
   "source": [
    "La clase TiendaOnline debe tener los siguientes métodos:"
   ]
  },
  {
   "cell_type": "markdown",
   "metadata": {},
   "source": [
    "1.Agregar_producto(self, nombre, precio, cantidad): Este método agrega un producto al inventario o actualiza su cantidad si ya existe. Debe recibir el nombre, precio y cantidad del producto como parámetros.\n",
    "\n",
    "¡\tItera a través del inventario y compara los nombres de los productos con el nombre proporcionado.\n",
    "\tSi el producto ya existe, actualiza la cantidad.\n",
    "\tSi no existe, agrega un nuevo producto al inventario\n"
   ]
  },
  {
   "cell_type": "code",
   "execution_count": 2,
   "metadata": {},
   "outputs": [],
   "source": [
    "def agrega_articulo(self, nombre, precio, cantidad):\n",
    "    for articulo in self.articulos:\n",
    "        if articulo[\"nombre\"] == nombre:\n",
    "            articulo[\"cantidad\"] += cantidad\n",
    "    \n",
    "            return self.articulos\n",
    "\n",
    "    nuevo_articulo = {\"nombre\": nombre, \"precio\": precio, \"cantidad\": cantidad}\n",
    "    self.articulos.append(nuevo_articulo)\n",
    "    return self.articulos\n"
   ]
  },
  {
   "cell_type": "code",
   "execution_count": 3,
   "metadata": {},
   "outputs": [],
   "source": [
    "# incluyo el metodo agregar_articulo en la clase\n",
    "\n",
    "class TiendaOnline:\n",
    "    def __init__(self, nombre):\n",
    "        self.nombre = nombre\n",
    "        self.articulos = {}  # Un diccionario para almacenar los articulos: {id_articulo: [nombre, precio, cantidad]}\n",
    "        self.clientes = {}   # Un diccionario para almacenar los clientes: {id_cliente: [nombre, email]}\n",
    "        self.ventas = []   # Una lista para registrar las ventas: [(id_venta, id_cliente, id_articulo, unidades)]\n",
    "\n",
    "\n",
    "    def agrega_articulo(self, nombre, precio, cantidad):\n",
    "        for articulo in self.articulos:\n",
    "            if articulo[\"nombre\"] == nombre:\n",
    "                articulo[\"cantidad\"] += cantidad\n",
    "                return self.articulos\n",
    "\n",
    "        nuevo_articulo = {\"nombre\": nombre, \"precio\": precio, \"cantidad\": cantidad}\n",
    "        self.articulos.append(nuevo_articulo)\n",
    "        return self.articulos\n"
   ]
  },
  {
   "cell_type": "code",
   "execution_count": 11,
   "metadata": {},
   "outputs": [],
   "source": [
    "#la_tienda = TiendaOnline (\"Tiendita\")"
   ]
  },
  {
   "cell_type": "markdown",
   "metadata": {},
   "source": [
    "2.Ver_inventario(self): Muestra el inventario de productos con sus detalles.\n",
    "\n",
    "\tUtiliza un bucle for para recorrer el inventario.\n",
    "\tImprime los detalles (nombre, precio, cantidad) de cada producto.\n",
    "\tDebería verse:\n",
    "Nombre: Camisa, Precio: $20, Cantidad: 50\n",
    "Nombre: Pantalón, Precio: $30, Cantidad: 30\n",
    "\n"
   ]
  },
  {
   "cell_type": "code",
   "execution_count": 4,
   "metadata": {},
   "outputs": [],
   "source": [
    "def mostrar_inventario(self):\n",
    "    # definir una lista (de diccionarios) vacía para el inventario\n",
    "    inventario = []\n",
    "\n",
    "    # recorrer a través del diccionario de articulos\n",
    "    for id_articulo, articulo_info in self.articulos.items():\n",
    "        # Sacar información del articulo: nombre, precio y cantidad\n",
    "        nombre, precio, cantidad = articulo_info\n",
    "        # Crea un diccionario con información del articulo y su cantidad\n",
    "        inventario[id_articulo] = {\n",
    "            \"Nombre\": nombre,\n",
    "            \"Precio\": precio,\n",
    "            \"Cantidad Disponible\": cantidad,\n",
    "            }\n",
    "    # Devuelve el diccionario de inventario con toda la información\n",
    "    return inventario"
   ]
  },
  {
   "cell_type": "markdown",
   "metadata": {},
   "source": [
    "3.Buscar_producto(self, nombre): Busca un producto en el inventario por nombre y muestra sus detalles si se encuentra. Debe recibir el nombre del producto como parámetro.\n",
    "\tUtiliza un bucle for para recorrer el inventario.\n",
    "\tCompara los nombres de los productos con el nombre proporcionado.\n",
    "\tSi se encuentra el producto, imprime sus detalles.\n",
    "\tDebe mostrar: Nombre: Camisa, Precio: $20, Cantidad: 40"
   ]
  },
  {
   "cell_type": "code",
   "execution_count": 5,
   "metadata": {},
   "outputs": [],
   "source": [
    "def buscar_producto_por_nombre(self, nombre):\n",
    "    # Defino lista vacía para almacenar los resultados de la búsqueda\n",
    "    resultados = []\n",
    "    nombre = input(\"Escribe el nombre del articulo\")\n",
    "\n",
    "    # Buscar a través del diccionario de articulos\n",
    "    for id_articulo, articulo in self.articuloss.items():\n",
    "        # Compara el nombre del articulo con el nombre indicado\n",
    "        if nombre.lower() in articulo[0].lower():\n",
    "            # Si se encuentra una coincidencia, agrega el ID del articulo y la información del articulo a la lista de resultados\n",
    "            resultados.append((id_articulo, articulo))\n",
    "    # Devuelve una lista con los resultados\n",
    "    return resultados"
   ]
  },
  {
   "cell_type": "markdown",
   "metadata": {},
   "source": [
    "4.Actualizar_stock(self, nombre, cantidad): Actualiza el stock de un producto en el inventario. Debe recibir el nombre del producto y la cantidad a agregar o quitar como parámetros.\n",
    "\tUtiliza un bucle for para recorrer el inventario.\n",
    "\tBusca el producto por nombre.\n",
    "\tActualiza la cantidad según la entrada del usuario.\n",
    "\tSi el producto no esta en el inventario muestra un mensaje indicándolo.\n"
   ]
  },
  {
   "cell_type": "code",
   "execution_count": null,
   "metadata": {},
   "outputs": [],
   "source": []
  },
  {
   "cell_type": "code",
   "execution_count": 6,
   "metadata": {},
   "outputs": [],
   "source": [
    "# incluyo los metodos en la clase\n",
    "\n",
    "class TiendaOnline:\n",
    "    def __init__(self, nombre):\n",
    "        self.nombre = nombre\n",
    "        self.articulos = {}  # Un diccionario para almacenar los articulos: {id_articulo: [nombre, precio, cantidad]}\n",
    "        self.clientes = {}   # Un diccionario para almacenar los clientes: {id_cliente: [nombre, email]}\n",
    "        self.ventas = []   # Una lista para registrar las ventas: [(id_venta, id_cliente, id_articulo, unidades)]\n",
    "\n",
    "\n",
    "    def agrega_articulo(self, nombre, precio, cantidad):\n",
    "        for articulo in self.articulos:\n",
    "            if articulo[\"nombre\"] == nombre:\n",
    "                articulo[\"cantidad\"] += cantidad\n",
    "                return self.articulos\n",
    "\n",
    "        nuevo_articulo = {\"nombre\": nombre, \"precio\": precio, \"cantidad\": cantidad}\n",
    "        self.articulos.append(nuevo_articulo)\n",
    "        return self.articulos\n",
    "\n",
    "    def mostrar_inventario(self):\n",
    "        # definir una lista (de diccionarios) vacía para el inventario\n",
    "        inventario = []\n",
    "\n",
    "        # recorrer a través del diccionario de articulos\n",
    "        for id_articulo, articulo_info in self.articulos.items():\n",
    "            # Sacar información del articulo: nombre, precio y cantidad\n",
    "            nombre, precio, cantidad = articulo_info\n",
    "            # Crea un diccionario con información del articulo y su cantidad\n",
    "            inventario[id_articulo] = {\n",
    "                \"Nombre\": nombre,\n",
    "                \"Precio\": precio,\n",
    "                \"Cantidad Disponible\": cantidad,\n",
    "                }\n",
    "        # Devuelve el diccionario de inventario con toda la información\n",
    "        return inventario\n",
    "    \n",
    "    def buscar_producto_por_nombre(self, nombre):\n",
    "        # Defino lista vacía para almacenar los resultados de la búsqueda\n",
    "        resultados = []\n",
    "        nombre = input(\"Escribe el nombre del articulo\")\n",
    "\n",
    "        # Buscar a través del diccionario de articulos\n",
    "        for id_articulo, articulo in self.articuloss.items():\n",
    "            # Compara el nombre del articulo con el nombre indicado\n",
    "            if nombre.lower() in articulo[0].lower():\n",
    "                # Si se encuentra una coincidencia, agrega el ID del articulo y la información del articulo a la lista de resultados\n",
    "                resultados.append((id_articulo, articulo))\n",
    "        # Devuelve una lista con los resultados\n",
    "        return resultados\n"
   ]
  },
  {
   "cell_type": "code",
   "execution_count": 20,
   "metadata": {},
   "outputs": [],
   "source": [
    "# Creo una instancia de la clase TiendaOnline\n",
    "la_tienda = TiendaOnline (\"Tiendita\")"
   ]
  },
  {
   "cell_type": "code",
   "execution_count": 19,
   "metadata": {},
   "outputs": [
    {
     "name": "stdout",
     "output_type": "stream",
     "text": [
      "Inventario Completo:\n",
      "[]\n",
      "\n",
      "Búsqueda de productos por nombre 'Libreta':\n"
     ]
    },
    {
     "ename": "AttributeError",
     "evalue": "'TiendaOnline' object has no attribute 'articuloss'",
     "output_type": "error",
     "traceback": [
      "\u001b[0;31m---------------------------------------------------------------------------\u001b[0m",
      "\u001b[0;31mAttributeError\u001b[0m                            Traceback (most recent call last)",
      "Input \u001b[0;32mIn [19]\u001b[0m, in \u001b[0;36m<cell line: 11>\u001b[0;34m()\u001b[0m\n\u001b[1;32m      9\u001b[0m \u001b[38;5;66;03m#Buscar productos por nombre\u001b[39;00m\n\u001b[1;32m     10\u001b[0m \u001b[38;5;28mprint\u001b[39m(\u001b[38;5;124m\"\u001b[39m\u001b[38;5;130;01m\\n\u001b[39;00m\u001b[38;5;124mBúsqueda de productos por nombre \u001b[39m\u001b[38;5;124m'\u001b[39m\u001b[38;5;124mLibreta\u001b[39m\u001b[38;5;124m'\u001b[39m\u001b[38;5;124m:\u001b[39m\u001b[38;5;124m\"\u001b[39m)\n\u001b[0;32m---> 11\u001b[0m \u001b[38;5;28mprint\u001b[39m(\u001b[43mla_tienda\u001b[49m\u001b[38;5;241;43m.\u001b[39;49m\u001b[43mbuscar_producto_por_nombre\u001b[49m\u001b[43m(\u001b[49m\u001b[38;5;124;43m\"\u001b[39;49m\u001b[38;5;124;43mLibreta\u001b[39;49m\u001b[38;5;124;43m\"\u001b[39;49m\u001b[43m)\u001b[49m)\n",
      "Input \u001b[0;32mIn [6]\u001b[0m, in \u001b[0;36mTiendaOnline.buscar_producto_por_nombre\u001b[0;34m(self, nombre)\u001b[0m\n\u001b[1;32m     41\u001b[0m nombre \u001b[38;5;241m=\u001b[39m \u001b[38;5;28minput\u001b[39m(\u001b[38;5;124m\"\u001b[39m\u001b[38;5;124mEscribe el nombre del articulo\u001b[39m\u001b[38;5;124m\"\u001b[39m)\n\u001b[1;32m     43\u001b[0m \u001b[38;5;66;03m# Buscar a través del diccionario de articulos\u001b[39;00m\n\u001b[0;32m---> 44\u001b[0m \u001b[38;5;28;01mfor\u001b[39;00m id_articulo, articulo \u001b[38;5;129;01min\u001b[39;00m \u001b[38;5;28;43mself\u001b[39;49m\u001b[38;5;241;43m.\u001b[39;49m\u001b[43marticuloss\u001b[49m\u001b[38;5;241m.\u001b[39mitems():\n\u001b[1;32m     45\u001b[0m     \u001b[38;5;66;03m# Compara el nombre del articulo con el nombre indicado\u001b[39;00m\n\u001b[1;32m     46\u001b[0m     \u001b[38;5;28;01mif\u001b[39;00m nombre\u001b[38;5;241m.\u001b[39mlower() \u001b[38;5;129;01min\u001b[39;00m articulo[\u001b[38;5;241m0\u001b[39m]\u001b[38;5;241m.\u001b[39mlower():\n\u001b[1;32m     47\u001b[0m         \u001b[38;5;66;03m# Si se encuentra una coincidencia, agrega el ID del articulo y la información del articulo a la lista de resultados\u001b[39;00m\n\u001b[1;32m     48\u001b[0m         resultados\u001b[38;5;241m.\u001b[39mappend((id_articulo, articulo))\n",
      "\u001b[0;31mAttributeError\u001b[0m: 'TiendaOnline' object has no attribute 'articuloss'"
     ]
    }
   ],
   "source": [
    "#Agrega articulos\n",
    "#articulos = la_tienda.agrega_articulo (\"Libro\", 40, 10)\n",
    "#articulos = la_tienda.agrega_articulo (\"Libreta\", 10, 20)\n",
    "\n",
    "#Mostrar_inventario\n",
    "print(\"Inventario Completo:\")\n",
    "print(la_tienda.mostrar_inventario())\n",
    "\n",
    "#Buscar productos por nombre\n",
    "print(\"\\nBúsqueda de productos por nombre 'Libreta':\")\n",
    "print(la_tienda.buscar_producto_por_nombre(\"Libreta\"))"
   ]
  }
 ],
 "metadata": {
  "kernelspec": {
   "display_name": "base",
   "language": "python",
   "name": "python3"
  },
  "language_info": {
   "codemirror_mode": {
    "name": "ipython",
    "version": 3
   },
   "file_extension": ".py",
   "mimetype": "text/x-python",
   "name": "python",
   "nbconvert_exporter": "python",
   "pygments_lexer": "ipython3",
   "version": "3.9.12"
  }
 },
 "nbformat": 4,
 "nbformat_minor": 2
}
