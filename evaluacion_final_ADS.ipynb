{
 "cells": [
  {
   "cell_type": "markdown",
   "metadata": {},
   "source": [
    "Evaluación Final"
   ]
  },
  {
   "cell_type": "markdown",
   "metadata": {},
   "source": [
    "•\tA lo largo de esta evaluación tendrás que crear una clase llamada TiendaOnline que cumpla los siguientes requisitos:\n",
    "o\tLa clase TiendaOnline debe tener los siguientes atributos:"
   ]
  },
  {
   "cell_type": "markdown",
   "metadata": {},
   "source": [
    "1.Inventario (lista de diccionarios): Un atributo para almacenar los productos en el inventario. Cada producto debe ser representado como un diccionario con las siguientes claves: 'nombre', 'precio', y 'cantidad'. Al principio deberá ser una lista vacía. Ejemplo de como debería ser:\n",
    "[{'nombre': 'Camisa', 'precio': 20, 'cantidad': 40},\n",
    "{'nombre': 'Pantalón', 'precio': 30, 'cantidad': 30}]"
   ]
  },
  {
   "cell_type": "markdown",
   "metadata": {},
   "source": [
    "2.Clientes (diccionario): Un atributo para llevar un registro de los clientes de la tienda. Cada cliente debe ser representado como un diccionario con las siguientes claves: 'nombre' y 'email'. Al inicio deberá ser un diccionario vacío. Además, cada cliente debe tener un historial de compras. Deberá parecerse a:\n",
    "{'Cliente1': {'email': 'cliente1@email.com', 'compras': []},\n",
    "'Cliente2': {'email': 'cliente2@email.com', 'compras': []}}\n"
   ]
  },
  {
   "cell_type": "markdown",
   "metadata": {},
   "source": [
    "3.Ventas_totales (float): Un atributo para llevar un registro de las ventas totales de la tienda. Inicializalo con valor 0.\n"
   ]
  },
  {
   "cell_type": "code",
   "execution_count": 1,
   "metadata": {},
   "outputs": [],
   "source": [
    "\n",
    "# creo la clase\n",
    "class TiendaOnline:\n",
    "    def __init__(self, nombre):\n",
    "        self.nombre = nombre\n",
    "        self.inventario = {}  # Un diccionario para almacenar los articulos: {id_articulo: [nombre, precio, cantidad]}\n",
    "        self.clientes = {}   # Un diccionario para almacenar los clientes: {id_cliente: [nombre, email]}\n",
    "        self.ventas_totales = []   # Una lista para registrar las ventas: [(id_venta, id_cliente, id_articulo, unidades)]\n",
    "\n"
   ]
  },
  {
   "cell_type": "markdown",
   "metadata": {},
   "source": [
    "La clase TiendaOnline debe tener los siguientes métodos:"
   ]
  },
  {
   "cell_type": "markdown",
   "metadata": {},
   "source": [
    "1.Agregar_producto(self, nombre, precio, cantidad): Este método agrega un producto al inventario o actualiza su cantidad si ya existe. Debe recibir el nombre, precio y cantidad del producto como parámetros.\n",
    "\n",
    "¡\tItera a través del inventario y compara los nombres de los productos con el nombre proporcionado.\n",
    "\tSi el producto ya existe, actualiza la cantidad.\n",
    "\tSi no existe, agrega un nuevo producto al inventario\n"
   ]
  },
  {
   "cell_type": "code",
   "execution_count": 6,
   "metadata": {},
   "outputs": [],
   "source": [
    "def agregar_articulo(self, nombre, precio, cantidad):\n",
    "    for articulo in self.inventario:\n",
    "        if articulo[\"nombre\"] == nombre:\n",
    "            articulo[\"cantidad\"] += cantidad\n",
    "            return self.inventario\n",
    "\n",
    "    nuevo_articulo = {\"nombre\": nombre, \"precio\": precio, \"cantidad\": cantidad}\n",
    "    self.inventario.append(nuevo_articulo)\n",
    "    return self.inventario\n",
    "\n"
   ]
  },
  {
   "cell_type": "code",
   "execution_count": 7,
   "metadata": {},
   "outputs": [],
   "source": [
    "# incluyo el metodo agregar_articulo en la clase\n",
    "\n",
    "class TiendaOnline:\n",
    "    def __init__(self, nombre):\n",
    "        self.nombre = nombre\n",
    "        self.inventario = {}  # Un diccionario para almacenar los articulos: {id_articulo: [nombre, precio, cantidad]}\n",
    "        self.clientes = {}   # Un diccionario para almacenar los clientes: {id_cliente: [nombre, email]}\n",
    "        self.vventas_totales = []   # Una lista para registrar las ventas: [(id_venta, id_cliente, id_articulo, unidades)]\n",
    "\n",
    "\n",
    "    def agregar_articulo(self, nombre, precio, cantidad):\n",
    "        for articulo in self.inventario:\n",
    "            if articulo[\"nombre\"] == nombre:\n",
    "                articulo[\"cantidad\"] += cantidad\n",
    "                return self.inventario\n",
    "\n",
    "        nuevo_articulo = {\"nombre\": nombre, \"precio\": precio, \"cantidad\": cantidad}\n",
    "        self.inventario.append(nuevo_articulo)\n",
    "        return self.inventario\n"
   ]
  },
  {
   "cell_type": "markdown",
   "metadata": {},
   "source": [
    "2.Ver_inventario(self): Muestra el inventario de productos con sus detalles.\n",
    "\n",
    "\tUtiliza un bucle for para recorrer el inventario.\n",
    "\tImprime los detalles (nombre, precio, cantidad) de cada producto.\n",
    "\tDebería verse:\n",
    "Nombre: Camisa, Precio: $20, Cantidad: 50\n",
    "Nombre: Pantalón, Precio: $30, Cantidad: 30\n",
    "\n"
   ]
  },
  {
   "cell_type": "code",
   "execution_count": 5,
   "metadata": {},
   "outputs": [],
   "source": [
    "def mostrar_inventario(self):\n",
    "    # definir una lista (de diccionarios) vacía para el inventario\n",
    "    inventario = []\n",
    "\n",
    "    # recorrer a través del diccionario de articulos\n",
    "    for id_articulo, articulo_info in self.inventario.items():\n",
    "        # Sacar información del articulo: nombre, precio y cantidad\n",
    "        nombre, precio, cantidad = articulo_info\n",
    "        # Crea un diccionario con información del articulo y su cantidad\n",
    "        inventario[id_articulo] = {\n",
    "            \"Nombre\": nombre,\n",
    "            \"Precio\": precio,\n",
    "            \"Cantidad Disponible\": cantidad,\n",
    "            }\n",
    "    # Devuelve el diccionario de inventario con toda la información\n",
    "    return inventario"
   ]
  },
  {
   "cell_type": "markdown",
   "metadata": {},
   "source": [
    "3.Buscar_producto(self, nombre): Busca un producto en el inventario por nombre y muestra sus detalles si se encuentra. Debe recibir el nombre del producto como parámetro.\n",
    "\tUtiliza un bucle for para recorrer el inventario.\n",
    "\tCompara los nombres de los productos con el nombre proporcionado.\n",
    "\tSi se encuentra el producto, imprime sus detalles.\n",
    "\tDebe mostrar: Nombre: Camisa, Precio: $20, Cantidad: 40"
   ]
  },
  {
   "cell_type": "code",
   "execution_count": 8,
   "metadata": {},
   "outputs": [],
   "source": [
    "def buscar_producto_por_nombre(self, nombre):\n",
    "    # Defino lista vacía para almacenar los resultados de la búsqueda\n",
    "    resultados = []\n",
    "    nombre = input(\"Escribe el nombre del articulo\")\n",
    "\n",
    "    # Buscar a través del diccionario de articulos\n",
    "    for id_articulo, articulo in self.inventario.items():\n",
    "        # Compara el nombre del articulo con el nombre indicado\n",
    "        if nombre.lower() in articulo[0].lower():\n",
    "            # Si se encuentra una coincidencia, agrega el ID del articulo y la información del articulo a la lista de resultados\n",
    "            resultados.append((id_articulo, articulo))\n",
    "    # Devuelve una lista con los resultados\n",
    "    return resultados"
   ]
  },
  {
   "cell_type": "markdown",
   "metadata": {},
   "source": [
    "4.Actualizar_stock(self, nombre, cantidad): Actualiza el stock de un producto en el inventario. Debe recibir el nombre del producto y la cantidad a agregar o quitar como parámetros.\n",
    "\tUtiliza un bucle for para recorrer el inventario.\n",
    "\tBusca el producto por nombre.\n",
    "\tActualiza la cantidad según la entrada del usuario.\n",
    "\tSi el producto no esta en el inventario muestra un mensaje indicándolo.\n"
   ]
  },
  {
   "cell_type": "code",
   "execution_count": 9,
   "metadata": {},
   "outputs": [],
   "source": [
    "def actualizar_producto(self, id_articulo, nombre=None, precio=None, cantidad=None):\n",
    "    if id_articulo in self.inventario:\n",
    "        articulo = self.inventario[id_producto]\n",
    "        if nombre is not None:\n",
    "            articulo[0] = nombre\n",
    "        if precio is not None:\n",
    "            articulo[1] = precio\n",
    "        if cantidad is not None:\n",
    "            articulo[2] = cantidad\n",
    "        # Imprime un mensaje de éxito con la información del producto actualizado\n",
    "        print(f\"Producto actualizado con éxito: {articulo}\")\n",
    "        # Devuelve el diccionario de productos actualizado\n",
    "        return self.inventario\n",
    "    else:\n",
    "        # Si el producto no se encuentra, muestra un mensaje de error\n",
    "        print(f\"No se encontró el producto con ID {id_articulo}.\")"
   ]
  },
  {
   "cell_type": "markdown",
   "metadata": {},
   "source": [
    "5.Eliminar_producto(self, nombre): Elimina un producto del inventario por nombre. Debe recibir el nombre del producto como parámetro.\n",
    "\tUtiliza un bucle for para recorrer el inventario.\n",
    "\tBusca el producto por nombre.\n",
    "\tElimina el producto del inventario si existe.\n",
    "\tSi el producto no esta en el inventario muestra un mensaje indicándolo.\n"
   ]
  },
  {
   "cell_type": "code",
   "execution_count": 12,
   "metadata": {},
   "outputs": [],
   "source": [
    "def eliminar_articulo(self, id_articulo):\n",
    "    # Verifica si el 'id_articulo' existe en el diccionario de articulos\n",
    "    if id_articulo in self.inventario:\n",
    "        # Si existe, elimina el articulo del diccionario de articulos\n",
    "        del self.inventario[id_articulo]\n",
    "        # Elimina las ventas asociadas al articulo eliminado\n",
    "        self.ventas_totales = [venta for venta in self.ventas if venta[2] != id_articulo]\n",
    "        # Imprime un mensaje de éxito\n",
    "        print(\"Articulo eliminado con éxito.\")\n",
    "        # Devuelve la lista de ventas actualizada\n",
    "        return self.ventas_totales\n",
    "    else:\n",
    "        # Si el 'id_articulo' no existe, muestra un mensaje de error\n",
    "        print(f\"No se encontró el articulo con ID {id_articulo}.\")"
   ]
  },
  {
   "cell_type": "markdown",
   "metadata": {},
   "source": [
    "6.Calcular_valor_inventario(self): Calcula y muestra el valor total del inventario.\n",
    "\tUtiliza un bucle for para calcular el valor total del inventario.\n",
    "\tItera a través del inventario y suma el valor de cada producto (precio x cantidad). Es decir, calcula el valor total del inventario. "
   ]
  },
  {
   "cell_type": "code",
   "execution_count": 20,
   "metadata": {},
   "outputs": [],
   "source": [
    "def calcular_valor_inventario(self):\n",
    "    # inicializamos valor_total en 0\n",
    "    valor_total = 0\n",
    "    \n",
    "    #buscamos a través de los valores del inventario.     \n",
    "    for info_articulo in self.inventario.values():\n",
    "    \n",
    "        precio, cantidad = info_articulo\n",
    "        valor_total += precio * cantidad\n",
    "        #se devuelve el valor total acumulado \n",
    "    return valor_total\n"
   ]
  },
  {
   "cell_type": "code",
   "execution_count": 21,
   "metadata": {},
   "outputs": [],
   "source": [
    "# incluyo los metodos en la clase\n",
    "\n",
    "class TiendaOnline:\n",
    "    def __init__(self, nombre):\n",
    "        self.nombre = nombre\n",
    "        self.inventario = {}  # Un diccionario para almacenar los articulos: {id_articulo: [nombre, precio, cantidad]}\n",
    "        self.clientes = {}   # Un diccionario para almacenar los clientes: {id_cliente: [nombre, email]}\n",
    "        self.ventas_totales = []   # Una lista para registrar las ventas: [(id_venta, id_cliente, id_articulo, unidades)]\n",
    "\n",
    "\n",
    "    def agregar_articulo(self, nombre, precio, cantidad):\n",
    "        for articulo in self.inventario:\n",
    "            if articulo[\"nombre\"] == nombre:\n",
    "                articulo[\"cantidad\"] += cantidad\n",
    "                return self.inventario\n",
    "\n",
    "        nuevo_articulo = {\"nombre\": nombre, \"precio\": precio, \"cantidad\": cantidad}\n",
    "        self.inventario.append(nuevo_articulo)\n",
    "        return self.inventario\n",
    "    \n",
    "\n",
    "    def mostrar_inventario(self):\n",
    "        # definir una lista (de diccionarios) vacía para el inventario\n",
    "        inventario = []\n",
    "\n",
    "        # recorrer a través del diccionario de articulos\n",
    "        for id_articulo, articulo_info in self.inventario.items():\n",
    "            # Sacar información del articulo: nombre, precio y cantidad\n",
    "            nombre, precio, cantidad = articulo_info\n",
    "            # Crea un diccionario con información del articulo y su cantidad\n",
    "            inventario[id_articulo] = {\n",
    "                \"Nombre\": nombre,\n",
    "                \"Precio\": precio,\n",
    "                \"Cantidad Disponible\": cantidad,\n",
    "                }\n",
    "        # Devuelve el diccionario de inventario con toda la información\n",
    "        return inventario\n",
    "    \n",
    "    \n",
    "    def buscar_producto_por_nombre(self, nombre):\n",
    "        # Defino lista vacía para almacenar los resultados de la búsqueda\n",
    "        resultados = []\n",
    "        nombre = input(\"Escribe el nombre del articulo\")\n",
    "\n",
    "        # Buscar a través del diccionario de articulos\n",
    "        for id_articulo, articulo in self.inventario.items():\n",
    "            # Compara el nombre del articulo con el nombre indicado\n",
    "            if nombre.lower() in articulo[0].lower():\n",
    "                # Si se encuentra una coincidencia, agrega el ID del articulo y la información del articulo a la lista de resultados\n",
    "                resultados.append((id_articulo, articulo))\n",
    "        # Devuelve una lista con los resultados\n",
    "        return resultados\n",
    "    \n",
    "    \n",
    "    def actualizar_producto(self, id_articulo, nombre=None, precio=None, cantidad=None):\n",
    "        if id_articulo in self.inventario:\n",
    "            articulo = self.inventario[id_producto]\n",
    "            if nombre is not None:\n",
    "                articulo[0] = nombre\n",
    "            if precio is not None:\n",
    "                articulo[1] = precio\n",
    "            if cantidad is not None:\n",
    "                articulo[2] = cantidad\n",
    "            # Imprime un mensaje de éxito con la información del producto actualizado\n",
    "            print(f\"Producto actualizado con éxito: {articulo}\")\n",
    "            # Devuelve el diccionario de productos actualizado\n",
    "            return self.inventario\n",
    "        else:\n",
    "            # Si el producto no se encuentra, muestra un mensaje de error\n",
    "            print(f\"No se encontró el producto con ID {id_articulo}.\")\n",
    "\n",
    "\n",
    "    def eliminar_articulo(self, id_articulo):\n",
    "        # Verifica si el 'id_articulo' existe en el diccionario de articulos\n",
    "        if id_articulo in self.inventario:\n",
    "            # Si existe, elimina el articulo del diccionario de articulos\n",
    "            del self.inventario[id_articulo]\n",
    "            # Elimina las ventas asociadas al articulo eliminado\n",
    "            self.ventas_totales = [venta for venta in self.ventas if venta[2] != id_articulo]\n",
    "            # Imprime un mensaje de éxito\n",
    "            print(\"Articulo eliminado con éxito.\")\n",
    "            # Devuelve la lista de ventas actualizada\n",
    "            return self.ventas_totales\n",
    "        else:\n",
    "            # Si el 'id_articulo' no existe, muestra un mensaje de error\n",
    "            print(f\"No se encontró el articulo con ID {id_articulo}.\")     \n",
    "\n",
    "\n",
    "    def calcular_valor_inventario(self):\n",
    "        # inicializamos valor_total en 0\n",
    "        valor_total = 0\n",
    "    \n",
    "        #buscamos a través de los valores del inventario.     \n",
    "        for info_articulo in self.inventario.values():\n",
    "    \n",
    "            precio, cantidad = info_articulo\n",
    "            valor_total += precio * cantidad\n",
    "             #se devuelve el valor total acumulado \n",
    "        return valor_total"
   ]
  },
  {
   "cell_type": "code",
   "execution_count": 23,
   "metadata": {},
   "outputs": [
    {
     "data": {
      "text/plain": [
       "'Tiendita'"
      ]
     },
     "execution_count": 23,
     "metadata": {},
     "output_type": "execute_result"
    }
   ],
   "source": [
    "# Creo una instancia de la clase TiendaOnline\n",
    "la_tienda = TiendaOnline (\"Tiendita\")\n",
    "\n",
    "la_tienda.nombre"
   ]
  },
  {
   "cell_type": "code",
   "execution_count": 29,
   "metadata": {},
   "outputs": [
    {
     "ename": "AttributeError",
     "evalue": "'TiendaOnline' object has no attribute 'agregar_producto'",
     "output_type": "error",
     "traceback": [
      "\u001b[0;31m---------------------------------------------------------------------------\u001b[0m",
      "\u001b[0;31mAttributeError\u001b[0m                            Traceback (most recent call last)",
      "Input \u001b[0;32mIn [29]\u001b[0m, in \u001b[0;36m<cell line: 2>\u001b[0;34m()\u001b[0m\n\u001b[1;32m      1\u001b[0m \u001b[38;5;66;03m# Agregar productos\u001b[39;00m\n\u001b[0;32m----> 2\u001b[0m nuevo_articulo \u001b[38;5;241m=\u001b[39m \u001b[43mla_tienda\u001b[49m\u001b[38;5;241;43m.\u001b[39;49m\u001b[43magregar_producto\u001b[49m(\u001b[38;5;241m1\u001b[39m, \u001b[38;5;124m\"\u001b[39m\u001b[38;5;124mLibro\u001b[39m\u001b[38;5;124m\"\u001b[39m, \u001b[38;5;241m80\u001b[39m, \u001b[38;5;241m10\u001b[39m)\n\u001b[1;32m      3\u001b[0m nuevo_articulo \u001b[38;5;241m=\u001b[39m la_tienda\u001b[38;5;241m.\u001b[39magregar_producto(\u001b[38;5;241m2\u001b[39m, \u001b[38;5;124m\"\u001b[39m\u001b[38;5;124mLibreta\u001b[39m\u001b[38;5;124m\"\u001b[39m, \u001b[38;5;241m30\u001b[39m, \u001b[38;5;241m20\u001b[39m)\n\u001b[1;32m      4\u001b[0m nuevo_articulo \u001b[38;5;241m=\u001b[39m la_tienda\u001b[38;5;241m.\u001b[39magregar_producto(\u001b[38;5;241m3\u001b[39m, \u001b[38;5;124m\"\u001b[39m\u001b[38;5;124mBolis\u001b[39m\u001b[38;5;124m\"\u001b[39m, \u001b[38;5;241m3\u001b[39m, \u001b[38;5;241m20\u001b[39m)\n",
      "\u001b[0;31mAttributeError\u001b[0m: 'TiendaOnline' object has no attribute 'agregar_producto'"
     ]
    }
   ],
   "source": [
    "# Agregar productos\n",
    "nuevo_articulo = la_tienda.agregar_producto(1, \"Libro\", 80, 10)\n",
    "nuevo_articulo = la_tienda.agregar_producto(2, \"Libreta\", 30, 20)\n",
    "nuevo_articulo = la_tienda.agregar_producto(3, \"Bolis\", 3, 20)\n",
    "\n",
    "print (nuevo_articulo)"
   ]
  },
  {
   "cell_type": "code",
   "execution_count": 35,
   "metadata": {},
   "outputs": [
    {
     "name": "stdout",
     "output_type": "stream",
     "text": [
      "Inventario Completo:\n",
      "[]\n",
      "\n",
      "Búsqueda de productos por nombre:\n",
      "[]\n"
     ]
    }
   ],
   "source": [
    "# Obtener inventario\n",
    "print(\"Inventario Completo:\")\n",
    "print(la_tienda.mostrar_inventario())\n",
    "\n",
    "# Buscar productos por nombre\n",
    "print(\"\\nBúsqueda de productos por nombre:\")\n",
    "print(la_tienda.buscar_producto_por_nombre(\"Libreta\"))"
   ]
  }
 ],
 "metadata": {
  "kernelspec": {
   "display_name": "base",
   "language": "python",
   "name": "python3"
  },
  "language_info": {
   "codemirror_mode": {
    "name": "ipython",
    "version": 3
   },
   "file_extension": ".py",
   "mimetype": "text/x-python",
   "name": "python",
   "nbconvert_exporter": "python",
   "pygments_lexer": "ipython3",
   "version": "3.9.12"
  }
 },
 "nbformat": 4,
 "nbformat_minor": 2
}
